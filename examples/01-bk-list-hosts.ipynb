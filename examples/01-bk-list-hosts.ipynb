{
 "cells": [
  {
   "cell_type": "code",
   "execution_count": 9,
   "metadata": {
    "collapsed": true
   },
   "outputs": [],
   "source": [
    "import pandas as pd\n",
    "import evolven"
   ]
  },
  {
   "cell_type": "markdown",
   "metadata": {},
   "source": [
    "# Retrieve a list of hosts\n"
   ]
  },
  {
   "cell_type": "markdown",
   "metadata": {},
   "source": [
    "### Step 1: Initialize Evolven API object"
   ]
  },
  {
   "cell_type": "code",
   "execution_count": 10,
   "metadata": {
    "collapsed": true
   },
   "outputs": [],
   "source": [
    "api = evolven.EvolvenAPI(\"http://localhost\", port=\"8080\", \n",
    "                            username=\"...\", password=\"...\", \n",
    "                            return_type=\"DataTable\", debug=False)"
   ]
  },
  {
   "cell_type": "markdown",
   "metadata": {},
   "source": [
    "### Step 2: Retrieve all discovered hosts\n",
    "\n",
    "... and select a subset of hosts"
   ]
  },
  {
   "cell_type": "code",
   "execution_count": 11,
   "metadata": {
    "collapsed": false,
    "scrolled": true
   },
   "outputs": [
    {
     "name": "stdout",
     "output_type": "stream",
     "text": [
      "Total selected hosts 75\n"
     ]
    },
    {
     "data": {
      "text/html": [
       "<div>\n",
       "<style scoped>\n",
       "    .dataframe tbody tr th:only-of-type {\n",
       "        vertical-align: middle;\n",
       "    }\n",
       "\n",
       "    .dataframe tbody tr th {\n",
       "        vertical-align: top;\n",
       "    }\n",
       "\n",
       "    .dataframe thead th {\n",
       "        text-align: right;\n",
       "    }\n",
       "</style>\n",
       "<table border=\"1\" class=\"dataframe\">\n",
       "  <thead>\n",
       "    <tr style=\"text-align: right;\">\n",
       "      <th></th>\n",
       "      <th>AppDef</th>\n",
       "      <th>ChildrenCount</th>\n",
       "      <th>Class</th>\n",
       "      <th>HasEnvPermissions</th>\n",
       "      <th>Host</th>\n",
       "      <th>HostType</th>\n",
       "      <th>ID</th>\n",
       "      <th>IdPath</th>\n",
       "      <th>IsDown</th>\n",
       "      <th>Name</th>\n",
       "      <th>Original</th>\n",
       "      <th>OriginalId</th>\n",
       "      <th>Os</th>\n",
       "      <th>OsIcon</th>\n",
       "      <th>Path</th>\n",
       "      <th>envId</th>\n",
       "      <th>hostId</th>\n",
       "    </tr>\n",
       "  </thead>\n",
       "  <tbody>\n",
       "    <tr>\n",
       "      <th>4</th>\n",
       "      <td>0</td>\n",
       "      <td>2</td>\n",
       "      <td>22001</td>\n",
       "      <td>true</td>\n",
       "      <td>SYDUATCMENG002</td>\n",
       "      <td>Prod</td>\n",
       "      <td>847</td>\n",
       "      <td>5/847</td>\n",
       "      <td>true</td>\n",
       "      <td>SYDUATCMENG002</td>\n",
       "      <td>SYDUATCMENG002</td>\n",
       "      <td>847</td>\n",
       "      <td>Windows 7 [6.1]</td>\n",
       "      <td>appdef-IconWIN</td>\n",
       "      <td>Discovered Environments\\SYDUATCMENG002</td>\n",
       "      <td>847</td>\n",
       "      <td>35</td>\n",
       "    </tr>\n",
       "    <tr>\n",
       "      <th>5</th>\n",
       "      <td>0</td>\n",
       "      <td>2</td>\n",
       "      <td>22001</td>\n",
       "      <td>true</td>\n",
       "      <td>US3ALENG005</td>\n",
       "      <td>Prod</td>\n",
       "      <td>849</td>\n",
       "      <td>5/849</td>\n",
       "      <td>true</td>\n",
       "      <td>US3ALENG005</td>\n",
       "      <td>US3ALENG005</td>\n",
       "      <td>849</td>\n",
       "      <td>Windows Server 2008 R2 [6.1]</td>\n",
       "      <td>appdef-IconWIN</td>\n",
       "      <td>Discovered Environments\\US3ALENG005</td>\n",
       "      <td>849</td>\n",
       "      <td>37</td>\n",
       "    </tr>\n",
       "  </tbody>\n",
       "</table>\n",
       "</div>"
      ],
      "text/plain": [
       "  AppDef ChildrenCount  Class HasEnvPermissions            Host HostType   ID  \\\n",
       "4      0             2  22001              true  SYDUATCMENG002     Prod  847   \n",
       "5      0             2  22001              true     US3ALENG005     Prod  849   \n",
       "\n",
       "  IdPath IsDown            Name        Original OriginalId  \\\n",
       "4  5/847   true  SYDUATCMENG002  SYDUATCMENG002        847   \n",
       "5  5/849   true     US3ALENG005     US3ALENG005        849   \n",
       "\n",
       "                             Os          OsIcon  \\\n",
       "4               Windows 7 [6.1]  appdef-IconWIN   \n",
       "5  Windows Server 2008 R2 [6.1]  appdef-IconWIN   \n",
       "\n",
       "                                     Path envId hostId  \n",
       "4  Discovered Environments\\SYDUATCMENG002   847     35  \n",
       "5     Discovered Environments\\US3ALENG005   849     37  "
      ]
     },
     "execution_count": 11,
     "metadata": {},
     "output_type": "execute_result"
    }
   ],
   "source": [
    "# Retrieve all discovered hosts\n",
    "hosts = api.Host.list()\n",
    "\n",
    "# Select a subset of hosts, e.g., production hosts\n",
    "selected_hosts = hosts[hosts.HostType==\"Prod\"]\n",
    "# selected_hosts = hosts[hosts.Name.str.contains(\"US3_GSP_PROD\")]\n",
    "\n",
    "print(\"Total selected hosts\", len(selected_hosts))\n",
    "\n",
    "# Test print the first 2 hosts\n",
    "selected_hosts.head(2)\n",
    "# selected_hosts"
   ]
  },
  {
   "cell_type": "code",
   "execution_count": null,
   "metadata": {
    "collapsed": true
   },
   "outputs": [],
   "source": []
  }
 ],
 "metadata": {
  "kernelspec": {
   "display_name": "Python 2",
   "language": "python",
   "name": "python2"
  },
  "language_info": {
   "codemirror_mode": {
    "name": "ipython",
    "version": 2
   },
   "file_extension": ".py",
   "mimetype": "text/x-python",
   "name": "python",
   "nbconvert_exporter": "python",
   "pygments_lexer": "ipython2",
   "version": "2.7.10"
  }
 },
 "nbformat": 4,
 "nbformat_minor": 1
}
