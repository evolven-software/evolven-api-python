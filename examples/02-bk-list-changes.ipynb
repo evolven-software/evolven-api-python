{
 "cells": [
  {
   "cell_type": "code",
   "execution_count": 1,
   "metadata": {},
   "outputs": [],
   "source": [
    "import evolven"
   ]
  },
  {
   "cell_type": "markdown",
   "metadata": {},
   "source": [
    "# Retrieve a list of changes"
   ]
  },
  {
   "cell_type": "markdown",
   "metadata": {},
   "source": [
    "### Step 1: Initialize Evolven API object"
   ]
  },
  {
   "cell_type": "code",
   "execution_count": 2,
   "metadata": {},
   "outputs": [],
   "source": [
    "api = evolven.EvolvenAPI(\"https://host13.evolven.com\", port=\"443\", \n",
    "                            username=\"...\", password=\"...\", \n",
    "                            return_type=\"DataTable\", debug=False)"
   ]
  },
  {
   "cell_type": "code",
   "execution_count": 4,
   "metadata": {
    "scrolled": true
   },
   "outputs": [
    {
     "name": "stdout",
     "output_type": "stream",
     "text": [
      "('\\nTotal changes', 24548)\n",
      "('\\nColumns:\\n', u'AnnotatedDescription, Authorized, AuthorizedCause, AuthorizedType, CI, CISubType, CIType, Category, ChangeType, CiDataType, Class, Comment, Compliance, Compliant, Consistency, ConsistencyKey, ConsistencyPercent, CurrentValue, Dynamic, EnvClass, Environment, EnvironmentName, EnvironmentType, FullPath, History, Host, HostClass, HostType, ID, Icon, IconType, IsChange, IsKey, Item, KeyType, LastItem, LastPath, Loneliness, Name, NoiseCategory, Operation, Os, OsIcon, Parameter, Path, Policy, PolicyId, PreviousValue, RiskDescription, RiskLevel, RiskNodeId, RiskScenario, RiskSimpleLevel, Riskscore, Significances, StartTime, State, Suspect, SystemTag, Tag, Time, Type, actionString, application-definition, applicationLayer, artifact, closed, comment, diff-action, diff-object-name, envId, file-type, freq, hostId, impact-area, is-ignore, is-toggle, isAuto, it-action, logical-layer, relative-change, server-component, suspect, time-anomaly, type-violation, value-anomaly, value-type')\n"
     ]
    },
    {
     "name": "stderr",
     "output_type": "stream",
     "text": [
      "/Users/bostjan/Projects/Evolven/evolven-api-python/evolven/api/res/change.py:177: FutureWarning: '.reindex_axis' is deprecated and will be removed in a future version. Use '.reindex' instead.\n",
      "  res = res.reindex_axis(sorted(res.columns), axis=1)\n"
     ]
    },
    {
     "data": {
      "text/html": [
       "<div>\n",
       "<style scoped>\n",
       "    .dataframe tbody tr th:only-of-type {\n",
       "        vertical-align: middle;\n",
       "    }\n",
       "\n",
       "    .dataframe tbody tr th {\n",
       "        vertical-align: top;\n",
       "    }\n",
       "\n",
       "    .dataframe thead th {\n",
       "        text-align: right;\n",
       "    }\n",
       "</style>\n",
       "<table border=\"1\" class=\"dataframe\">\n",
       "  <thead>\n",
       "    <tr style=\"text-align: right;\">\n",
       "      <th></th>\n",
       "      <th>AnnotatedDescription</th>\n",
       "      <th>Authorized</th>\n",
       "      <th>AuthorizedCause</th>\n",
       "      <th>AuthorizedType</th>\n",
       "      <th>CI</th>\n",
       "      <th>CISubType</th>\n",
       "      <th>CIType</th>\n",
       "      <th>Category</th>\n",
       "      <th>ChangeType</th>\n",
       "      <th>CiDataType</th>\n",
       "      <th>...</th>\n",
       "      <th>isAuto</th>\n",
       "      <th>it-action</th>\n",
       "      <th>logical-layer</th>\n",
       "      <th>relative-change</th>\n",
       "      <th>server-component</th>\n",
       "      <th>suspect</th>\n",
       "      <th>time-anomaly</th>\n",
       "      <th>type-violation</th>\n",
       "      <th>value-anomaly</th>\n",
       "      <th>value-type</th>\n",
       "    </tr>\n",
       "  </thead>\n",
       "  <tbody>\n",
       "    <tr>\n",
       "      <th>0</th>\n",
       "      <td></td>\n",
       "      <td>-1</td>\n",
       "      <td>Default-Unauthorized</td>\n",
       "      <td>Default</td>\n",
       "      <td>Dll Info</td>\n",
       "      <td>Executables</td>\n",
       "      <td>Code</td>\n",
       "      <td>DLL Files</td>\n",
       "      <td>{Name: Executables, LastModified: 152477712324...</td>\n",
       "      <td>NaN</td>\n",
       "      <td>...</td>\n",
       "      <td>NaN</td>\n",
       "      <td>null</td>\n",
       "      <td>Application Views</td>\n",
       "      <td>Significant build version change</td>\n",
       "      <td>OS</td>\n",
       "      <td>false</td>\n",
       "      <td>No Pattern Detected</td>\n",
       "      <td>NO_TYPE_VIOLATION</td>\n",
       "      <td>NO_DATA</td>\n",
       "      <td>VERSION</td>\n",
       "    </tr>\n",
       "    <tr>\n",
       "      <th>1</th>\n",
       "      <td></td>\n",
       "      <td>-1</td>\n",
       "      <td>Default-Unauthorized</td>\n",
       "      <td>Default</td>\n",
       "      <td>user1556</td>\n",
       "      <td>Configuration</td>\n",
       "      <td>Configuration</td>\n",
       "      <td>LDAP_TEMPLATE</td>\n",
       "      <td>NaN</td>\n",
       "      <td>NaN</td>\n",
       "      <td>...</td>\n",
       "      <td>NaN</td>\n",
       "      <td>null</td>\n",
       "      <td>Application Views</td>\n",
       "      <td>null</td>\n",
       "      <td>SECURITY</td>\n",
       "      <td>false</td>\n",
       "      <td>No Pattern Detected</td>\n",
       "      <td>NOT_APPLICABLE</td>\n",
       "      <td>NO_DATA</td>\n",
       "      <td>null</td>\n",
       "    </tr>\n",
       "  </tbody>\n",
       "</table>\n",
       "<p>2 rows × 87 columns</p>\n",
       "</div>"
      ],
      "text/plain": [
       "  AnnotatedDescription Authorized       AuthorizedCause AuthorizedType  \\\n",
       "0                              -1  Default-Unauthorized        Default   \n",
       "1                              -1  Default-Unauthorized        Default   \n",
       "\n",
       "         CI      CISubType         CIType       Category  \\\n",
       "0  Dll Info    Executables           Code      DLL Files   \n",
       "1  user1556  Configuration  Configuration  LDAP_TEMPLATE   \n",
       "\n",
       "                                          ChangeType CiDataType    ...      \\\n",
       "0  {Name: Executables, LastModified: 152477712324...        NaN    ...       \n",
       "1                                                NaN        NaN    ...       \n",
       "\n",
       "  isAuto it-action      logical-layer                   relative-change  \\\n",
       "0    NaN      null  Application Views  Significant build version change   \n",
       "1    NaN      null  Application Views                              null   \n",
       "\n",
       "  server-component suspect         time-anomaly     type-violation  \\\n",
       "0               OS   false  No Pattern Detected  NO_TYPE_VIOLATION   \n",
       "1         SECURITY   false  No Pattern Detected     NOT_APPLICABLE   \n",
       "\n",
       "  value-anomaly value-type  \n",
       "0       NO_DATA    VERSION  \n",
       "1       NO_DATA       null  \n",
       "\n",
       "[2 rows x 87 columns]"
      ]
     },
     "execution_count": 4,
     "metadata": {},
     "output_type": "execute_result"
    }
   ],
   "source": [
    "changes = api.Change.list(env_id=3)\n",
    "    \n",
    "print(\"\\nTotal changes\", len(changes))\n",
    "\n",
    "# Print all change fields\n",
    "print(\"\\nColumns:\\n\", \", \".join([col for col in changes]))\n",
    "\n",
    "# Test print the first 2 changes\n",
    "changes.head(2)\n",
    "# changes"
   ]
  },
  {
   "cell_type": "code",
   "execution_count": null,
   "metadata": {
    "collapsed": true
   },
   "outputs": [],
   "source": []
  }
 ],
 "metadata": {
  "kernelspec": {
   "display_name": "Python 2",
   "language": "python",
   "name": "python2"
  },
  "language_info": {
   "codemirror_mode": {
    "name": "ipython",
    "version": 2
   },
   "file_extension": ".py",
   "mimetype": "text/x-python",
   "name": "python",
   "nbconvert_exporter": "python",
   "pygments_lexer": "ipython2",
   "version": "2.7.10"
  }
 },
 "nbformat": 4,
 "nbformat_minor": 1
}
