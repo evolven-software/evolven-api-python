{
 "cells": [
  {
   "cell_type": "code",
   "execution_count": null,
   "metadata": {
    "collapsed": true
   },
   "outputs": [],
   "source": [
    "import pandas as pd\n",
    "import evolven"
   ]
  },
  {
   "cell_type": "markdown",
   "metadata": {},
   "source": [
    "# Report: Identify common modifications to new VMs\n",
    "\n",
    "The purpose of the report is to identify additional areas to be configured out-of-the-box in a new server build\n",
    " - Users can order a new VM that will come with one of standard builds\n",
    " - Once VM is ready the users can add missing software and execute additional configuration\n",
    " - If most of the users are doing the same changes our sponsor wants to detect this and add these changes to a standard build\n",
    "    \n",
    "Scope of the report can include\n",
    " - An environment, a list of environments or a list of rules defining a set of environments\n",
    " - A list of servers or a list of rules defining sets of servers\n",
    "\n",
    "Period of time will be a number of days since the first agent scan.\n",
    "\n",
    "Outcome will provide statistics of the changes in the defined scope over defined period of time:\n",
    " - Top 5 technology components added the most on top of the standard builds + a list of added components and percentage of servers where these components were deployed\n",
    " - Top 10 configuration changes made across the target scope + an ordered list of changes executed on more than 5% of servers (the percentage should be configurable)\n",
    " - A list of version updates per component executed on the servers after the initial build"
   ]
  },
  {
   "cell_type": "markdown",
   "metadata": {},
   "source": [
    "## Pull all relevant data\n",
    "\n",
    "In three steps:\n",
    "1. Initialize Evolven API object\n",
    "2. Retrieve all relevant hosts\n",
    "4. Retrieve all changes on that hosts"
   ]
  },
  {
   "cell_type": "markdown",
   "metadata": {},
   "source": [
    "### Step 1: Initialize Evolven API object"
   ]
  },
  {
   "cell_type": "code",
   "execution_count": null,
   "metadata": {
    "collapsed": true
   },
   "outputs": [],
   "source": [
    "api = evolven.EvolvenAPI(\"http://localhost\", port=\"8080\", \n",
    "                            username=\"...\", password=\"...\", \n",
    "                            return_type=\"DataTable\", debug=False)"
   ]
  },
  {
   "cell_type": "markdown",
   "metadata": {},
   "source": [
    "### Step 2: Retrieve all discovered hosts\n",
    "\n",
    "... and select a subset of hosts"
   ]
  },
  {
   "cell_type": "code",
   "execution_count": null,
   "metadata": {
    "collapsed": false,
    "scrolled": true
   },
   "outputs": [],
   "source": [
    "# Retrieve all discovered hosts\n",
    "hosts = api.Host.list()\n",
    "\n",
    "# Select a subset of hosts, e.g., production hosts\n",
    "selected_hosts = hosts[hosts.HostType==\"Prod\"]\n",
    "# selected_hosts = hosts[hosts.Name.str.contains(\"US3_GSP_PROD\")]\n",
    "\n",
    "print(\"Total selected hosts\", len(selected_hosts))\n",
    "\n",
    "# Test print the first 2 hosts\n",
    "selected_hosts.head(2)\n",
    "# selected_hosts"
   ]
  },
  {
   "cell_type": "markdown",
   "metadata": {},
   "source": [
    "### Step 3: Retrieve all changes at selected hosts"
   ]
  },
  {
   "cell_type": "code",
   "execution_count": null,
   "metadata": {
    "collapsed": false,
    "scrolled": true
   },
   "outputs": [],
   "source": [
    "changes = pd.DataFrame()\n",
    "\n",
    "for idx, host in selected_hosts[[\"Name\", \"envId\", \"ID\"]].iterrows():\n",
    "    print(host.Name)\n",
    "    changes_h = api.Change.list(env_id=host[\"envId\"])\n",
    "    print(len(changes_h))\n",
    "    changes = changes.append(changes_h)\n",
    "    \n",
    "    \n",
    "print(\"\\nTotal changes %s\"%len(changes))\n",
    "\n",
    "# Print all change fields\n",
    "print(\"\\nColumns:\\n\" + \", \".join([col for col in changes]))\n",
    "\n",
    "# Test print the first 2 changes\n",
    "changes.head(2)\n",
    "# changes"
   ]
  },
  {
   "cell_type": "markdown",
   "metadata": {},
   "source": [
    "### Step 4: Get age of changes\n",
    "Calculate how much time passed between the time the machine was created and change was introduced."
   ]
  },
  {
   "cell_type": "code",
   "execution_count": null,
   "metadata": {
    "collapsed": false,
    "scrolled": true
   },
   "outputs": [],
   "source": [
    "age = []\n",
    "host_t_cache = {}\n",
    "\n",
    "for idx, change in changes.iterrows():\n",
    "    \n",
    "    c_age = 0\n",
    "    \n",
    "    # Get the right host name\n",
    "    host = hosts[hosts.Name==change.Host]\n",
    "    if len(host) > 0:\n",
    "        env_id = int(host.envId)\n",
    "\n",
    "        # Query environment info for this host\n",
    "        if env_id in host_t_cache:\n",
    "            host_t_created = host_t_cache[env_id]\n",
    "        else:        \n",
    "            host_t_created = int(api.Environment.get_summary(env_id).Next.CreationTime)\n",
    "            host_t_cache[env_id] = host_t_created\n",
    "\n",
    "        # Calculate relative time difference\n",
    "        change_t_created = int(change.StartTime)\n",
    "        c_age = (change_t_created - host_t_created)\n",
    "    else:\n",
    "        # error in demo data\n",
    "        pass\n",
    "        \n",
    "    age.append(c_age)\n",
    "\n",
    "    \n",
    "\n",
    "# Store data and calculate age in days and weeks\n",
    "changes[\"age\"] = age\n",
    "changes[\"days\"] = [a/1000/3600/24 for a in age]\n",
    "changes[\"weeks\"] = [d/7 for d in changes[\"days\"]]\n",
    "    \n",
    "changes.head(2)"
   ]
  },
  {
   "cell_type": "markdown",
   "metadata": {},
   "source": [
    "## Address report objectives\n",
    "Outcome will provide statistics of the changes in the defined scope over defined period of time\n",
    "1. Top 5 technology components added the most on top of the standard builds + a list of added components and percentage of servers where these components were deployed\n",
    "1. Top 10 configuration changes made across the target scope + an ordered list of changes executed on more than 5% of servers (the percentage should be configurable)\n",
    "1. A list of version updates per component executed on the servers after the initial build"
   ]
  },
  {
   "cell_type": "markdown",
   "metadata": {},
   "source": [
    "### 1. Top 5 technology components added the most on top of the standard builds + a list of added components and percentage of servers where these components were deployed"
   ]
  },
  {
   "cell_type": "markdown",
   "metadata": {},
   "source": [
    "First select only inventory changes"
   ]
  },
  {
   "cell_type": "code",
   "execution_count": null,
   "metadata": {
    "collapsed": false
   },
   "outputs": [],
   "source": [
    "inventory_changes = changes[changes[\"CIType\"]==\"Inventory\"]\n",
    "print(\"Total\", len(inventory_changes))"
   ]
  },
  {
   "cell_type": "code",
   "execution_count": null,
   "metadata": {
    "collapsed": false
   },
   "outputs": [],
   "source": [
    "# Get total servers\n",
    "total_servers = inventory_changes[\"hostId\"].nunique()\n",
    "print(\"Total servers\", total_servers)"
   ]
  },
  {
   "cell_type": "markdown",
   "metadata": {},
   "source": [
    "Group changes by Environment type and full path, and count the number of changes. Then add a column that calculates the share of servers."
   ]
  },
  {
   "cell_type": "code",
   "execution_count": null,
   "metadata": {
    "collapsed": false
   },
   "outputs": [],
   "source": [
    "# SELECT COUNT(ID) AS ID, EnvironmentType, FullPath \n",
    "# FROM inventory_changes \n",
    "# GROUP BY EnvironmentType, FullPath \n",
    "# SORT BY ID\n",
    "\n",
    "inventory_grouped = inventory_changes.groupby([\"EnvironmentType\", \"FullPath\", \"Operation\"])[\"ID\"].count().reset_index()\n",
    "inventory_grouped = inventory_grouped.sort_values(\"ID\", ascending=False)\n",
    "\n",
    "inventory_grouped[\"Share of servers\"] = inventory_grouped[\"ID\"] * 100.0 / total_servers\n",
    "\n",
    "# Test print the first 5 changes\n",
    "inventory_grouped.head()"
   ]
  },
  {
   "cell_type": "markdown",
   "metadata": {},
   "source": [
    "### 2. Top 10 configuration changes made across the target scope + an ordered list of changes executed on more than 5% of servers (the percentage should be configurable)\n",
    "\n",
    "Start by selecting configuration and capacity changes."
   ]
  },
  {
   "cell_type": "code",
   "execution_count": null,
   "metadata": {
    "collapsed": false
   },
   "outputs": [],
   "source": [
    "configuration_changes = changes[changes[\"CIType\"].isin([\"Configuration\", \"Capacity\"])]\n",
    "print(\"Total changes\", len(configuration_changes))\n",
    "configuration_changes.head(2)\n",
    "\n",
    "total_servers = configuration_changes[\"hostId\"].nunique()\n",
    "print(\"Total servers\", total_servers)"
   ]
  },
  {
   "cell_type": "code",
   "execution_count": null,
   "metadata": {
    "collapsed": false,
    "scrolled": true
   },
   "outputs": [],
   "source": [
    "# SELECT COUNT(ID) AS ID, EnvironmentType, FullPath, AnnotatedDescription\n",
    "# FROM configuration_changes \n",
    "# GROUP BY EnvironmentType, FullPath, AnnotatedDescription \n",
    "# SORT BY ID\n",
    "\n",
    "config_grouped = configuration_changes.groupby([\"EnvironmentType\", \"FullPath\", \"AnnotatedDescription\", \"CISubType\"])[\"ID\"].count().reset_index()\n",
    "config_grouped = config_grouped.sort_values(\"ID\", ascending=False)\n",
    "\n",
    "config_grouped[\"Share of servers\"] = config_grouped[\"ID\"] * 100.0 / total_servers\n",
    "\n",
    "# Show only configuration changes above threshold\n",
    "config_grouped = config_grouped[config_grouped[\"Share of servers\"] > 5.0]\n",
    "\n",
    "# Test print the first 5 changes\n",
    "config_grouped.head(5)"
   ]
  },
  {
   "cell_type": "markdown",
   "metadata": {},
   "source": [
    "### 3. A list of version updates per component executed on the servers after the initial build"
   ]
  },
  {
   "cell_type": "code",
   "execution_count": null,
   "metadata": {
    "collapsed": false
   },
   "outputs": [],
   "source": [
    "version_changes = changes[changes[\"value-type\"] == \"VERSION\"]\n",
    "print(\"Total changes\", len(version_changes))\n",
    "version_changes.head(2)\n",
    "\n",
    "total_servers = version_changes[\"hostId\"].nunique()\n",
    "print(\"Total servers\", total_servers)\n",
    "\n",
    "# SELECT COUNT(ID) AS ID, EnvironmentType, FullPath, AnnotatedDescription \n",
    "# FROM version_changes \n",
    "# GROUP BY EnvironmentType, FullPath, AnnotatedDescription \n",
    "# SORT BY ID\n",
    "\n",
    "version_grouped = version_changes.groupby([\"EnvironmentType\", \"FullPath\", \"AnnotatedDescription\"])[\"ID\"].count().reset_index()\n",
    "version_grouped = version_grouped.sort_values(\"ID\", ascending=False)\n",
    "\n",
    "version_grouped[\"Share of servers\"] = version_grouped[\"ID\"] * 100.0 / total_servers\n",
    "\n",
    "# Show only configuration changes above threshold\n",
    "version_grouped = version_grouped[version_grouped[\"Share of servers\"] > 5.0]\n",
    "\n",
    "# Test print the first 5 changes\n",
    "version_grouped.head(5)"
   ]
  },
  {
   "cell_type": "markdown",
   "metadata": {},
   "source": [
    "## Write results to an Excel file\n",
    "Create a new Excel file and write each result on a its own sheet."
   ]
  },
  {
   "cell_type": "code",
   "execution_count": null,
   "metadata": {
    "collapsed": false
   },
   "outputs": [],
   "source": [
    "path = \"C:\\\\Users\\\\Administrator\\\\Downloads\\\\evolven-python-quickstart\\\\scripts\\\\03-bk-inventory-analysis\"\n",
    "report_path = path + '\\\\inventory-analysis.xlsx'\n",
    "\n",
    "writer = pd.ExcelWriter(report_path)\n",
    "\n",
    "inventory_grouped.to_excel(writer,'Top inventory changes')\n",
    "config_grouped.to_excel(writer,'Top configuration changes')\n",
    "version_grouped.to_excel(writer,'Top version changes')\n",
    "\n",
    "writer.save()"
   ]
  },
  {
   "cell_type": "markdown",
   "metadata": {},
   "source": [
    "## Set output variables for Evolven reporting\n",
    "Detailed set of input and output variables are described in [00 - Advanced Reporting with Evolven Python API.ipynb](00 - Advanced Reporting with Evolven Python API.ipynb)."
   ]
  },
  {
   "cell_type": "code",
   "execution_count": null,
   "metadata": {
    "collapsed": false
   },
   "outputs": [],
   "source": [
    "## Set variables for\n",
    "import os, sys\n",
    "\n",
    "\n",
    "print(\"ReportLocation=%s\"%report_path)\n",
    "print(\"Subject=Inventory analysis\")\n",
    "print(\"Body=Inventory analysis attached. Evolven Python Report\")\n"
   ]
  },
  {
   "cell_type": "code",
   "execution_count": null,
   "metadata": {
    "collapsed": true
   },
   "outputs": [],
   "source": []
  }
 ],
 "metadata": {
  "kernelspec": {
   "display_name": "Python 2",
   "language": "python",
   "name": "python2"
  },
  "language_info": {
   "codemirror_mode": {
    "name": "ipython",
    "version": 2
   },
   "file_extension": ".py",
   "mimetype": "text/x-python",
   "name": "python",
   "nbconvert_exporter": "python",
   "pygments_lexer": "ipython2",
   "version": "2.7.10"
  }
 },
 "nbformat": 4,
 "nbformat_minor": 1
}
